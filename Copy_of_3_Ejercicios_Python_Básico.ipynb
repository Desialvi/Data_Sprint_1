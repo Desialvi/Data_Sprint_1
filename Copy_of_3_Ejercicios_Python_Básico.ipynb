{
  "cells": [
    {
      "cell_type": "markdown",
      "metadata": {
        "id": "view-in-github",
        "colab_type": "text"
      },
      "source": [
        "<a href=\"https://colab.research.google.com/github/Desialvi/Data_Sprint_1/blob/main/Copy_of_3_Ejercicios_Python_Ba%CC%81sico.ipynb\" target=\"_parent\"><img src=\"https://colab.research.google.com/assets/colab-badge.svg\" alt=\"Open In Colab\"/></a>"
      ]
    },
    {
      "cell_type": "markdown",
      "id": "a5e8e1c1",
      "metadata": {
        "id": "a5e8e1c1"
      },
      "source": [
        "![](https://i.pinimg.com/originals/73/20/2a/73202af19e27fbfac7acddeb1763e789.jpg)\n",
        "\n",
        "\n",
        "### 1.1\n",
        "Escribir un script que pregunte el nombre del usuario, luego muestre por pantalla el siguiente mensaje:\n",
        "\n",
        "¡Hola ``nombre``!, tu nombre tiene ``cantidad_de_letras`` letras\n",
        "    \n",
        "    \n",
        "- ``nombre`` es el nombre que el usuario haya introducido.\n",
        "- ``cantidad_de_letras`` es la cantidad de letras que posee ``nombre``"
      ]
    },
    {
      "cell_type": "code",
      "execution_count": 1,
      "id": "72913c06",
      "metadata": {
        "id": "72913c06",
        "outputId": "1649e27a-d304-4898-beab-c5a3e9e8ad5e",
        "colab": {
          "base_uri": "https://localhost:8080/"
        }
      },
      "outputs": [
        {
          "output_type": "stream",
          "name": "stdout",
          "text": [
            "Ingrese su nombre: Desiree\n",
            "¡Hola Desiree!, tu nombre tiene 7 letras\n"
          ]
        }
      ],
      "source": [
        "nombre = input(\"Ingrese su nombre: \")\n",
        "cantidad_de_letras = len(nombre)\n",
        "\n",
        "print(f\"¡Hola {nombre}!, tu nombre tiene {cantidad_de_letras} letras\")"
      ]
    },
    {
      "cell_type": "markdown",
      "id": "dc225348",
      "metadata": {
        "id": "dc225348"
      },
      "source": [
        "### 1.2\n",
        "Escribir un script que pregunte el nombre y apellido del usuario y después muestre el nombre completo del usuario tres veces:\n",
        "\n",
        "- una con todas las letras minúsculas\n",
        "- otra con todas las letras mayúsculas\n",
        "- otra solo con la primera letra del nombre y de los apellidos en mayúscula."
      ]
    },
    {
      "cell_type": "code",
      "execution_count": 1,
      "id": "99d37f91",
      "metadata": {
        "id": "99d37f91",
        "outputId": "e65bfc59-17e0-4fb3-a21f-e2e7a70a8db3",
        "colab": {
          "base_uri": "https://localhost:8080/"
        }
      },
      "outputs": [
        {
          "output_type": "stream",
          "name": "stdout",
          "text": [
            "Escriba su nombre: Desiree\n",
            "Escriba su apellido: Alvarado\n",
            "DESIREE ALVARADO\n",
            "desiree alvarado\n",
            "Desiree Alvarado\n"
          ]
        }
      ],
      "source": [
        "nombre = input(\"Escriba su nombre: \")\n",
        "apellido = input(\"Escriba su apellido: \")\n",
        "print(f\"{nombre.upper()} {apellido.upper()}\")\n",
        "print(f\"{nombre.lower()} {apellido.lower()}\")\n",
        "print(f\"{nombre.capitalize()} {apellido.capitalize()}\")\n"
      ]
    },
    {
      "cell_type": "code",
      "execution_count": 2,
      "id": "87055f46",
      "metadata": {
        "id": "87055f46",
        "outputId": "9fd00c01-fbd4-4956-e3b8-72345113c030",
        "colab": {
          "base_uri": "https://localhost:8080/"
        }
      },
      "outputs": [
        {
          "output_type": "stream",
          "name": "stdout",
          "text": [
            "Escriba su nombre y apellido :Desiree Alvarado\n",
            "DESIREE ALVARADO\n",
            "desiree alvarado\n",
            "Desiree Alvarado\n"
          ]
        }
      ],
      "source": [
        "nombre = input(\"Escriba su nombre y apellido :\")\n",
        "print(f\"{nombre.upper()}\")\n",
        "print(f\"{nombre.lower()}\")\n",
        "print(f\"{nombre.title()}\")\n"
      ]
    },
    {
      "cell_type": "markdown",
      "id": "d66a4f32",
      "metadata": {
        "id": "d66a4f32"
      },
      "source": [
        "### 1.3\n",
        "Se tiene un dataset cuyos numeros telefonico siguen el siguiente formato: *prefijo-número-extension*\n",
        "\n",
        "Ejemplo: +34-913724710-56\n",
        "\n",
        "- Dado un numero telefonico, se pide mostrar en consola el siguiente mensaje:\n",
        "\n",
        "Su numero de telefono es: +34-913724710-56, Prefijo: 34, Numero: 913724710 y Extension: 56*\n",
        "\n",
        "**Ojo: no se vale contar caracteres, ya que la longitud tanto del prefijo, numero y extension podrian variar.**"
      ]
    },
    {
      "cell_type": "code",
      "execution_count": 3,
      "id": "d4ea0aa7",
      "metadata": {
        "id": "d4ea0aa7",
        "outputId": "8d76d92d-4459-4509-9dee-8453a367292e",
        "colab": {
          "base_uri": "https://localhost:8080/"
        }
      },
      "outputs": [
        {
          "output_type": "stream",
          "name": "stdout",
          "text": [
            "Su numero de telefono es +34-913724710-56, Prefijo: 34, Numero: 913724710 y Extension: 56*\n"
          ]
        }
      ],
      "source": [
        "dataset_n = \"+34-913724710-56\"\n",
        "nuevo_data=dataset_n.split(\"-\")\n",
        "prefijo =nuevo_data[0]\n",
        "prefijo_sin_mas = prefijo[1::]\n",
        "numero = nuevo_data[1]\n",
        "extension = nuevo_data[2]\n",
        "\n",
        "print(f\"Su numero de telefono es {dataset_n}, Prefijo: {prefijo_sin_mas}, Numero: {numero} y Extension: {extension}*\")\n",
        "\n",
        "\n",
        "\n",
        "\n"
      ]
    },
    {
      "cell_type": "markdown",
      "id": "1c5f781e",
      "metadata": {
        "id": "1c5f781e"
      },
      "source": [
        "### 1.4\n",
        "Dada la siguiente lista de ``mails_viejos``, pasarla de forma automatizada a la de ``mails_nuevos``"
      ]
    },
    {
      "cell_type": "code",
      "execution_count": 5,
      "id": "50dc1f91",
      "metadata": {
        "id": "50dc1f91"
      },
      "outputs": [],
      "source": [
        "mails_viejos = ['Rihanna@everis.arg.com', 'lady_gaga@everis.arg.com', 'taylor_swift_red@everis.arg.com']\n",
        "#mails_nuevos = ['Rihanna@gmail.com', 'lady_gaga@gmail.com', 'taylor_swift_red@gmail.com']"
      ]
    },
    {
      "cell_type": "code",
      "execution_count": 6,
      "id": "bd71b8d9",
      "metadata": {
        "id": "bd71b8d9",
        "outputId": "c7acb297-84a0-4047-dc21-74c9403c945e",
        "colab": {
          "base_uri": "https://localhost:8080/"
        }
      },
      "outputs": [
        {
          "output_type": "stream",
          "name": "stdout",
          "text": [
            "['Rihanna@@gmail.com.com', 'lady_gaga@@gmail.com.com', 'taylor_swift_red@@gmail.com.com']\n"
          ]
        }
      ],
      "source": [
        "mails_viejos = ['Rihanna@everis.arg.com', 'lady_gaga@everis.arg.com', 'taylor_swift_red@everis.arg.com']\n",
        "mails_nuevos=[]\n",
        "for m in mails_viejos:\n",
        "    mails_nuevos.append((m.replace('everis.arg', '@gmail.com')))\n",
        "\n",
        "print(mails_nuevos)\n",
        "\n",
        "\n"
      ]
    },
    {
      "cell_type": "markdown",
      "id": "1fe46a66",
      "metadata": {
        "id": "1fe46a66"
      },
      "source": [
        "### 1.5\n",
        "Escribir un script que pregunte al usuario por la contraseña e imprima por pantalla si la contraseña introducida por el usuario coincide con la guardada en la variable **sin tener en cuenta mayúsculas y minúsculas.**"
      ]
    },
    {
      "cell_type": "code",
      "execution_count": 7,
      "id": "ecbf63ed",
      "metadata": {
        "id": "ecbf63ed"
      },
      "outputs": [],
      "source": [
        "contraseña = 'contraseña'"
      ]
    },
    {
      "cell_type": "code",
      "execution_count": 8,
      "id": "c55c38f7",
      "metadata": {
        "id": "c55c38f7",
        "outputId": "c9947885-e29b-420d-ec73-ba2558286886",
        "colab": {
          "base_uri": "https://localhost:8080/"
        }
      },
      "outputs": [
        {
          "output_type": "stream",
          "name": "stdout",
          "text": [
            "ingrese una contraseña: contraseña\n",
            "La contraseña coincide\n"
          ]
        }
      ],
      "source": [
        "contraseña_usu = (input(\"ingrese una contraseña: \")).upper()\n",
        "\n",
        "if (contraseña).upper() == contraseña_usu:\n",
        "    print(\"La contraseña coincide\")\n",
        "else:\n",
        "    print(\"La contraseña no coincide\")"
      ]
    },
    {
      "cell_type": "markdown",
      "id": "d9d0bf90",
      "metadata": {
        "id": "d9d0bf90"
      },
      "source": [
        "### 1.6\n",
        "Un Banco quiere etiquetar a sus clientes en funcion de su salario para poder saber si puede asignarle o no una tarjeta de crédito. Solo los clientes clase A y B pueden acceder a la tarjeta.\n",
        "\n",
        "| Salario              | Clasificación |\n",
        "|----------------------|---------------|\n",
        "| Menos de 20000       | D             |\n",
        "| Entre 20000 y 50000  | C             |\n",
        "| Entre 50000 y 100000 | B             |\n",
        "| Mas de 100000        | A             |\n",
        "\n",
        "Generar un Script que dado un salario ingresado devuelva que clasificacion tiene y si califica o no para la tarjeta"
      ]
    },
    {
      "cell_type": "code",
      "execution_count": 9,
      "id": "8d65cdc5",
      "metadata": {
        "id": "8d65cdc5",
        "outputId": "934e82ea-61e4-4009-c1c8-05e48951a2bf",
        "colab": {
          "base_uri": "https://localhost:8080/"
        }
      },
      "outputs": [
        {
          "output_type": "stream",
          "name": "stdout",
          "text": [
            "Ingrese su salario: 60000\n",
            "Categoria B y califica\n"
          ]
        }
      ],
      "source": [
        "    salario = int(input(\"Ingrese su salario: \"))\n",
        "\n",
        "    if salario > 100000:\n",
        "        print(\"Categoria A y califica \")\n",
        "\n",
        "    elif salario > 50000 and salario <= 100000:\n",
        "        print(\"Categoria B y califica\")\n",
        "\n",
        "    elif salario >= 20000 and salario <= 50000:\n",
        "        print(\"Categoria C y calififica\")\n",
        "\n",
        "    else:\n",
        "        print(\"categoria D y no califica\")\n",
        "\n",
        "\n"
      ]
    },
    {
      "cell_type": "markdown",
      "id": "252e680e",
      "metadata": {
        "id": "252e680e"
      },
      "source": [
        "### 1.7\n",
        "Mostrar en consola todos los numeros desde el 1 hasta el 1000 que sean capicua (1, 11,101,etc)"
      ]
    },
    {
      "cell_type": "code",
      "execution_count": 10,
      "id": "188cd7f7",
      "metadata": {
        "id": "188cd7f7",
        "outputId": "d124558e-c2ba-4dc3-9018-43bfbe986269",
        "colab": {
          "base_uri": "https://localhost:8080/"
        }
      },
      "outputs": [
        {
          "output_type": "stream",
          "name": "stdout",
          "text": [
            "1\n",
            "2\n",
            "3\n",
            "4\n",
            "5\n",
            "6\n",
            "7\n",
            "8\n",
            "9\n",
            "11\n",
            "22\n",
            "33\n",
            "44\n",
            "55\n",
            "66\n",
            "77\n",
            "88\n",
            "99\n",
            "101\n",
            "111\n",
            "121\n",
            "131\n",
            "141\n",
            "151\n",
            "161\n",
            "171\n",
            "181\n",
            "191\n",
            "202\n",
            "212\n",
            "222\n",
            "232\n",
            "242\n",
            "252\n",
            "262\n",
            "272\n",
            "282\n",
            "292\n",
            "303\n",
            "313\n",
            "323\n",
            "333\n",
            "343\n",
            "353\n",
            "363\n",
            "373\n",
            "383\n",
            "393\n",
            "404\n",
            "414\n",
            "424\n",
            "434\n",
            "444\n",
            "454\n",
            "464\n",
            "474\n",
            "484\n",
            "494\n",
            "505\n",
            "515\n",
            "525\n",
            "535\n",
            "545\n",
            "555\n",
            "565\n",
            "575\n",
            "585\n",
            "595\n",
            "606\n",
            "616\n",
            "626\n",
            "636\n",
            "646\n",
            "656\n",
            "666\n",
            "676\n",
            "686\n",
            "696\n",
            "707\n",
            "717\n",
            "727\n",
            "737\n",
            "747\n",
            "757\n",
            "767\n",
            "777\n",
            "787\n",
            "797\n",
            "808\n",
            "818\n",
            "828\n",
            "838\n",
            "848\n",
            "858\n",
            "868\n",
            "878\n",
            "888\n",
            "898\n",
            "909\n",
            "919\n",
            "929\n",
            "939\n",
            "949\n",
            "959\n",
            "969\n",
            "979\n",
            "989\n",
            "999\n"
          ]
        }
      ],
      "source": [
        "for n in range (1, 1001):\n",
        "    x = str(n)\n",
        "    if x == x[::-1]:\n",
        "        print(n)"
      ]
    },
    {
      "cell_type": "markdown",
      "id": "ed9775d9",
      "metadata": {
        "id": "ed9775d9"
      },
      "source": [
        "### 1.8\n",
        "Escribir un programa que pida al usuario un número entero y muestre por pantalla un triángulo rectángulo como el de más abajo, de altura el número introducido.\n",
        "\n",
        "1\n",
        "\n",
        "3 1\n",
        "\n",
        "5 3 1\n",
        "\n",
        "7 5 3 1\n",
        "\n",
        "9 7 5 3 1"
      ]
    },
    {
      "cell_type": "code",
      "execution_count": 11,
      "id": "e02de7d7",
      "metadata": {
        "id": "e02de7d7",
        "outputId": "5a91e943-8dfb-4634-d412-50adbee7c280",
        "colab": {
          "base_uri": "https://localhost:8080/"
        }
      },
      "outputs": [
        {
          "output_type": "stream",
          "name": "stdout",
          "text": [
            "Ingresa un numero entero :10\n",
            "1 \n",
            "3 1 \n",
            "5 3 1 \n",
            "7 5 3 1 \n",
            "9 7 5 3 1 \n"
          ]
        }
      ],
      "source": [
        "num = int(input(\"Ingresa un numero entero :\"))\n",
        "for i in range(1, num+1, 2):\n",
        "    for j in range(i, 0, -2):\n",
        "        print(j, end = \" \")\n",
        "    print()\n",
        "\n"
      ]
    },
    {
      "cell_type": "markdown",
      "id": "afc536fd",
      "metadata": {
        "id": "afc536fd"
      },
      "source": [
        "### 1.9\n",
        "\n",
        "Escribir un script que dado un número entero positivo muestre la cuenta atrás desde ese número hasta cero separados por comas.\n"
      ]
    },
    {
      "cell_type": "code",
      "execution_count": 12,
      "id": "d066b932",
      "metadata": {
        "id": "d066b932",
        "outputId": "7c9df8df-69ce-4232-a5d2-105e5daa250d",
        "colab": {
          "base_uri": "https://localhost:8080/"
        }
      },
      "outputs": [
        {
          "output_type": "stream",
          "name": "stdout",
          "text": [
            "Ingresa un numero entero positivo: 10\n",
            "10,9,8,7,6,5,4,3,2,1,0,"
          ]
        }
      ],
      "source": [
        "num2 = int(input(\"Ingresa un numero entero positivo: \"))\n",
        "for i in range(num2, -1, -1):\n",
        "    print(i, end = \",\")"
      ]
    },
    {
      "cell_type": "markdown",
      "id": "802a4a06",
      "metadata": {
        "id": "802a4a06"
      },
      "source": [
        "### 2.0\n",
        "\n",
        "Escribir un script que dado un número entero positivo muestre la cuenta atrás desde ese número hasta cero separados por comas.\n"
      ]
    },
    {
      "cell_type": "code",
      "execution_count": 13,
      "id": "d8b47ee3",
      "metadata": {
        "id": "d8b47ee3",
        "colab": {
          "base_uri": "https://localhost:8080/"
        },
        "outputId": "b1fe7c00-520d-40f2-c17c-87d43d3e1f87"
      },
      "outputs": [
        {
          "output_type": "stream",
          "name": "stdout",
          "text": [
            "Ingresa un numero entero positivo: 10\n",
            "10,9,8,7,6,5,4,3,2,1,0,"
          ]
        }
      ],
      "source": [
        "num3 = int(input(\"Ingresa un numero entero positivo: \"))\n",
        "for i in range(num3, -1, -1):\n",
        "    print(i, end = \",\")"
      ]
    },
    {
      "cell_type": "markdown",
      "id": "5926f0b2",
      "metadata": {
        "id": "5926f0b2"
      },
      "source": [
        "### 2.2\n",
        "\n",
        "Escribir un programa que almacene las asignaturas de un curso (por ejemplo Matemáticas, Física, Química, Historia y Lengua) en una lista, pregunte al usuario la nota que ha sacado en cada asignatura y elimine de la lista las asignaturas aprobadas. Al final el programa debe mostrar por pantalla las asignaturas que el usuario tiene que repetir.\n"
      ]
    },
    {
      "cell_type": "code",
      "execution_count": 16,
      "id": "2abf9e98",
      "metadata": {
        "id": "2abf9e98",
        "outputId": "b98a0ad7-f3cf-456a-bc8c-c9dc1fdf9444",
        "colab": {
          "base_uri": "https://localhost:8080/"
        }
      },
      "outputs": [
        {
          "output_type": "stream",
          "name": "stdout",
          "text": [
            "¿Cual es tu nota de  Matematica ? \n",
            "5\n",
            "¿Cual es tu nota de  Fisica ? \n",
            "8\n",
            "¿Cual es tu nota de  Quimica ? \n",
            "7\n",
            "¿Cual es tu nota de  Historia ? \n",
            "9\n",
            "¿Cual es tu nota de  Lengua ? \n",
            "7\n",
            "Te falta aprobar  ['Matematica']\n"
          ]
        }
      ],
      "source": [
        "materias = [\"Matematica\", \"Fisica\", \"Quimica\", \"Historia\", \"Lengua\"]\n",
        "materias_faltantes = []\n",
        "for materia in materias:\n",
        "    nota = int(input(f\"¿Cual es tu nota de  {materia} ? \\n\"))\n",
        "    if nota < 6:\n",
        "        materias_faltantes.append(materia)\n",
        "print(f\"Te falta aprobar8  {materias_faltantes}\")\n",
        "\n",
        "\n",
        "\n",
        "\n"
      ]
    },
    {
      "cell_type": "markdown",
      "id": "54eded8d",
      "metadata": {
        "id": "54eded8d"
      },
      "source": [
        "### 2.3\n",
        "\n",
        "Escribir un programa que pida al usuario una palabra y muestre por pantalla el número de veces que contiene cada vocal.\n"
      ]
    },
    {
      "cell_type": "code",
      "execution_count": 17,
      "id": "757e8b57",
      "metadata": {
        "id": "757e8b57",
        "outputId": "f78b02e4-efb1-455f-f9e1-818aa4acda74",
        "colab": {
          "base_uri": "https://localhost:8080/"
        }
      },
      "outputs": [
        {
          "output_type": "stream",
          "name": "stdout",
          "text": [
            "Ingresa una palabra: murcielago\n",
            "La vocal   a  aparece 1 veces.\n",
            "La vocal   e  aparece 1 veces.\n",
            "La vocal   i  aparece 1 veces.\n",
            "La vocal   o  aparece 1 veces.\n",
            "La vocal   u  aparece 1 veces.\n"
          ]
        }
      ],
      "source": [
        "palabra = input(\"Ingresa una palabra: \")\n",
        "vocales = ['a', 'e', 'i', 'o', 'u']\n",
        "for i in vocales:\n",
        "    c = 0\n",
        "    for letra in palabra:\n",
        "        if letra == i:\n",
        "            c += 1\n",
        "    print(f\"La vocal   {i}  aparece {c} veces.\")"
      ]
    },
    {
      "cell_type": "markdown",
      "id": "5277a66c",
      "metadata": {
        "id": "5277a66c"
      },
      "source": [
        "### 2.4\n",
        "Escribir un programa que guarde en un diccionario los precios de las frutas de la tabla, pregunte al usuario por una fruta, un número de kilos y muestre por pantalla el precio de ese número de kilos de fruta. Si la fruta no está en el diccionario debe mostrar un mensaje informando de ello.\n",
        "\n",
        "| Fruta   | Precio por Kg |\n",
        "|---------|---------------|\n",
        "| Banana  | 150           |\n",
        "| Manzana | 200           |\n",
        "| Pera    | 180           |\n",
        "| Naranja | 100           |"
      ]
    },
    {
      "cell_type": "code",
      "execution_count": 19,
      "id": "d95f0e60",
      "metadata": {
        "id": "d95f0e60",
        "outputId": "b6dfadb1-cb98-494c-c736-7bc5f6084415",
        "colab": {
          "base_uri": "https://localhost:8080/"
        }
      },
      "outputs": [
        {
          "output_type": "stream",
          "name": "stdout",
          "text": [
            "Ingresa una fruta: pera\n",
            "¿Ingresa un número de kilos: 5\n",
            "Ingresaste 5.0 kilos de pera. El precio es 900.0 pesos\n"
          ]
        }
      ],
      "source": [
        "frutas = {'Banana':150, 'Manzana':200, 'Pera':180, 'Naranja':100}\n",
        "fruta = input('Ingresa una fruta: ').title()\n",
        "cantidad = float(input('¿Ingresa un número de kilos: '))\n",
        "precio= frutas[fruta]*cantidad\n",
        "if fruta in frutas:\n",
        "    if cantidad == 1:\n",
        "        print(f\"Ingresaste {cantidad} kilo de {(fruta).lower()}. El precio es {fprecio}\")\n",
        "    else:\n",
        "        print(f\"Ingresaste {cantidad} kilos de {(fruta).lower()}. El precio es {precio} pesos\" )\n",
        "\n",
        "else:\n",
        "    print(f\"No tenemos {(fruta).lower()}\")\n"
      ]
    },
    {
      "cell_type": "markdown",
      "id": "6769d482",
      "metadata": {
        "id": "6769d482"
      },
      "source": [
        "### 2.5\n",
        "\n",
        "Escribir un programa que pregunte una fecha en formato dd/mm/aaaa y muestre por pantalla la misma fecha en formato dd de mes de aaaa donde mes es el nombre del mes."
      ]
    },
    {
      "cell_type": "code",
      "execution_count": 20,
      "id": "d833a50e",
      "metadata": {
        "id": "d833a50e",
        "outputId": "c687168d-079d-4d9c-9610-0ce33198f2bb",
        "colab": {
          "base_uri": "https://localhost:8080/"
        }
      },
      "outputs": [
        {
          "output_type": "stream",
          "name": "stdout",
          "text": [
            "Introduce una fecha en formato dd/mm/aaaa: 26/03/1984\n",
            "26 de  marzo de 1984\n"
          ]
        }
      ],
      "source": [
        "meses = {1:'enero', 2:'febrero', 3:'marzo', 4:'abril', 5:'mayo', 6:'junio', 7:'julio', 8:'agosto', 9:'septiembre', 10:'octubre', 11:'noviembre', 12:'diciembre'}\n",
        "fecha = input('Introduce una fecha en formato dd/mm/aaaa: ')\n",
        "fecha_split = fecha.split('/')\n",
        "print(f\"{fecha_split[0]} de  {meses[int(fecha_split[1])]} de {fecha_split[2]}\")\n"
      ]
    },
    {
      "cell_type": "markdown",
      "id": "3d4b9189",
      "metadata": {
        "id": "3d4b9189"
      },
      "source": [
        "### 2.6\n",
        "\n",
        "Escribir una función que reciba una muestra de números en una lista y devuelva su promedio.\n"
      ]
    },
    {
      "cell_type": "code",
      "source": [
        "import numpy as np\n",
        "list_num=[]"
      ],
      "metadata": {
        "id": "4uuyrI4aUnbb"
      },
      "id": "4uuyrI4aUnbb",
      "execution_count": 40,
      "outputs": []
    },
    {
      "cell_type": "code",
      "execution_count": 41,
      "id": "47f8d7ed",
      "metadata": {
        "id": "47f8d7ed",
        "outputId": "24b4dce3-2eac-4376-877b-e0d29659774a",
        "colab": {
          "base_uri": "https://localhost:8080/"
        }
      },
      "outputs": [
        {
          "name": "stdout",
          "output_type": "stream",
          "text": [
            "Ingresa un número: 2\n",
            "Ingresa un número: 4\n",
            "Ingresa un número: 5\n",
            "Ingresa un número: 6\n",
            "Ingresa un número: 7\n"
          ]
        },
        {
          "output_type": "execute_result",
          "data": {
            "text/plain": [
              "[2, 4, 5, 6, 7]"
            ]
          },
          "metadata": {},
          "execution_count": 41
        }
      ],
      "source": [
        "for i in range(5) :\n",
        "    num4 = int(input(\"Ingresa un número: \"))\n",
        "    list_num.append(num4)\n",
        "list_num\n",
        "\n"
      ]
    },
    {
      "cell_type": "code",
      "source": [
        "\n",
        "def promedio (list_num):\n",
        "    return np.mean(list_num)\n",
        "promedio(list_num)"
      ],
      "metadata": {
        "colab": {
          "base_uri": "https://localhost:8080/"
        },
        "id": "O-xuWWXPFY0I",
        "outputId": "9987eabd-69ab-4e77-b824-48f1c1c4aa4a"
      },
      "id": "O-xuWWXPFY0I",
      "execution_count": 42,
      "outputs": [
        {
          "output_type": "execute_result",
          "data": {
            "text/plain": [
              "4.8"
            ]
          },
          "metadata": {},
          "execution_count": 42
        }
      ]
    },
    {
      "cell_type": "markdown",
      "id": "2e484008",
      "metadata": {
        "id": "2e484008"
      },
      "source": [
        "### 2.7\n",
        "\n",
        "Escribir una funcion que tome un string como parametro y devuelva el string pero en orden inversor\n"
      ]
    },
    {
      "cell_type": "code",
      "execution_count": 44,
      "id": "6c34cd01",
      "metadata": {
        "id": "6c34cd01",
        "outputId": "aab300e3-f8db-47cb-b1e0-583845195b69",
        "colab": {
          "base_uri": "https://localhost:8080/",
          "height": 35
        }
      },
      "outputs": [
        {
          "output_type": "execute_result",
          "data": {
            "text/plain": [
              "'apor'"
            ],
            "application/vnd.google.colaboratory.intrinsic+json": {
              "type": "string"
            }
          },
          "metadata": {},
          "execution_count": 44
        }
      ],
      "source": [
        "def invertir_string(string):\n",
        "    return string[::-1]\n",
        "invertir_string(\"ropa\")\n",
        "\n"
      ]
    },
    {
      "cell_type": "markdown",
      "id": "ae6c901f",
      "metadata": {
        "id": "ae6c901f"
      },
      "source": [
        "### 2.8\n",
        "Escribir una funcion que tome un string como parametro y devuelva la palabra mas larga en dicho string\n"
      ]
    },
    {
      "cell_type": "code",
      "execution_count": 45,
      "id": "45c77612",
      "metadata": {
        "id": "45c77612",
        "outputId": "cbc5b18e-f50a-414e-970a-fa012fba44fc",
        "colab": {
          "base_uri": "https://localhost:8080/",
          "height": 35
        }
      },
      "outputs": [
        {
          "output_type": "execute_result",
          "data": {
            "text/plain": [
              "'Victoria'"
            ],
            "application/vnd.google.colaboratory.intrinsic+json": {
              "type": "string"
            }
          },
          "metadata": {},
          "execution_count": 45
        }
      ],
      "source": [
        "string = \"La Victoria estado aragua/\"\n",
        "def palabra_larga (cadena):\n",
        "    caracteres = \"!#$%^&*(),.={][}:;?¡/\\¿+-\"\n",
        "    for caracter in caracteres:\n",
        "        cadena = cadena.replace(caracter, '')\n",
        "    cadena = cadena.split(\" \", )\n",
        "    palabra = \"\"\n",
        "    for i in cadena:\n",
        "        if len(i) > len(palabra):\n",
        "            palabra = i\n",
        "    return palabra\n",
        "\n",
        "palabra_larga(string)"
      ]
    },
    {
      "cell_type": "markdown",
      "id": "275d9cb9",
      "metadata": {
        "id": "275d9cb9"
      },
      "source": [
        "### 2.9\n",
        "Escribir una funcion que tome dos strings como parametros y sin importar mayusculas ni minusculas devuelva:\n",
        "- True: si son iguales\n",
        "- False: si son diferentes"
      ]
    },
    {
      "cell_type": "code",
      "execution_count": 48,
      "id": "8376c025",
      "metadata": {
        "id": "8376c025",
        "outputId": "667e2e0a-5e90-4982-aef1-3bf57fa99397",
        "colab": {
          "base_uri": "https://localhost:8080/"
        }
      },
      "outputs": [
        {
          "output_type": "stream",
          "name": "stdout",
          "text": [
            "Ingresa una palabra: hols\n",
            "Ingresa otra palabra: hols\n",
            "True\n"
          ]
        }
      ],
      "source": [
        "def son_iguales (string_1, string_2):\n",
        "    if string_1.lower() == string_2.lower():\n",
        "        print(True)\n",
        "    else:\n",
        "        print(False)\n",
        "p1=input(\"Ingresa una palabra: \")\n",
        "p2=input(\"Ingresa otra palabra: \")\n",
        "son_iguales(p1, p2)\n"
      ]
    },
    {
      "cell_type": "markdown",
      "id": "6e2dc662",
      "metadata": {
        "id": "6e2dc662"
      },
      "source": [
        "### 3.0\n",
        "Escribir una funcion que dado una lista de numeros devuelva la multiplicacion de todos ellos\n"
      ]
    },
    {
      "cell_type": "code",
      "execution_count": 52,
      "id": "78bfdcda",
      "metadata": {
        "id": "78bfdcda",
        "outputId": "3bbc4ddf-8d9c-44d1-85d1-91aff17fe448",
        "colab": {
          "base_uri": "https://localhost:8080/"
        }
      },
      "outputs": [
        {
          "output_type": "execute_result",
          "data": {
            "text/plain": [
              "120"
            ]
          },
          "metadata": {},
          "execution_count": 52
        }
      ],
      "source": [
        "lista = [2,1,3,4,5]\n",
        "\n",
        "def multiplicar(lista):\n",
        "  mult=1\n",
        "  for n in lista:\n",
        "      mult = n*mult\n",
        "  return mult\n",
        "\n",
        "multiplicar(lista)"
      ]
    },
    {
      "cell_type": "markdown",
      "id": "6585e0d5",
      "metadata": {
        "id": "6585e0d5"
      },
      "source": [
        "### 3.1\n",
        "Escribir un programa que reciba una cadena de caracteres y devuelva un diccionario con cada palabra que contiene y su frecuencia.\n"
      ]
    },
    {
      "cell_type": "code",
      "execution_count": 54,
      "id": "2661b6a0",
      "metadata": {
        "id": "2661b6a0",
        "outputId": "8847c0b2-7da3-4017-ced4-82b78412f547",
        "colab": {
          "base_uri": "https://localhost:8080/"
        }
      },
      "outputs": [
        {
          "output_type": "execute_result",
          "data": {
            "text/plain": [
              "{'La': 1, 'Victoria': 1, 'estado': 1, 'aragua': 1}"
            ]
          },
          "metadata": {},
          "execution_count": 54
        }
      ],
      "source": [
        "word = \"La Victoria estado aragua/\"\n",
        "\n",
        "def dicc(word):\n",
        "    caracteres = \"!#$%^&*(),.={][}:;?¡/\\¿+-\"\n",
        "    for caracter in caracteres:\n",
        "        word = word.replace(caracter, '')\n",
        "    word = word.split(\" \", )\n",
        "    palabras = {}\n",
        "    for i in word:\n",
        "        if i in palabras:\n",
        "            palabras[i] += 1\n",
        "        else:\n",
        "            palabras[i] = 1\n",
        "    return palabras\n",
        "\n",
        "dicc(word)\n",
        "\n"
      ]
    },
    {
      "cell_type": "markdown",
      "id": "a8a520af",
      "metadata": {
        "id": "a8a520af"
      },
      "source": [
        "## Depuración de errores\n",
        "\n",
        "En cada ejercicio corré el codigo, analizá el error en consola y corregilo"
      ]
    },
    {
      "cell_type": "markdown",
      "id": "ba287984",
      "metadata": {
        "id": "ba287984"
      },
      "source": [
        "### 3.2"
      ]
    },
    {
      "cell_type": "code",
      "execution_count": 55,
      "id": "6633235f",
      "metadata": {
        "id": "6633235f",
        "outputId": "49ac6b7a-f946-41ae-c9b3-dab21d1e2df3",
        "colab": {
          "base_uri": "https://localhost:8080/"
        }
      },
      "outputs": [
        {
          "output_type": "stream",
          "name": "stdout",
          "text": [
            "Introduce la contraseña: clave\n",
            "Pasa\n"
          ]
        }
      ],
      "source": [
        "contraseña = input(\"Introduce la contraseña: \")\n",
        "if contraseña in 'clave':\n",
        "      print('Pasa')\n",
        "else:\n",
        "      print('No pasa')"
      ]
    },
    {
      "cell_type": "code",
      "execution_count": null,
      "id": "c27c9fe6",
      "metadata": {
        "id": "c27c9fe6"
      },
      "outputs": [],
      "source": []
    }
  ],
  "metadata": {
    "kernelspec": {
      "display_name": "Python 3 (ipykernel)",
      "language": "python",
      "name": "python3"
    },
    "language_info": {
      "codemirror_mode": {
        "name": "ipython",
        "version": 3
      },
      "file_extension": ".py",
      "mimetype": "text/x-python",
      "name": "python",
      "nbconvert_exporter": "python",
      "pygments_lexer": "ipython3",
      "version": "3.9.12"
    },
    "colab": {
      "provenance": [],
      "include_colab_link": true
    }
  },
  "nbformat": 4,
  "nbformat_minor": 5
}